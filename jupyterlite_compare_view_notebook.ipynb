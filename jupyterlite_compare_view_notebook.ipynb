{
    "cells": [
        {
            "cell_type": "markdown",
            "id": "762dc804-72e1-4960-a764-03d044378c63",
            "metadata": {
                "tags": []
            },
            "source": [
                "# JupyterLite - Demo of jupyter_compare_view\n",
                "Repo: https://github.com/Octoframes/jupyter_compare_view"
            ]
        },
        {
            "cell_type": "code",
            "execution_count": null,
            "id": "874b7fad-a338-4365-b5b5-1765442e5661",
            "metadata": {},
            "outputs": [],
            "source": [
                "import micropip  #  only for JupyterLite\n",
                "await micropip.install(\"jupyter_compare_view\")"
            ]
        },
        {
            "cell_type": "code",
            "execution_count": null,
            "id": "755babb2",
            "metadata": {},
            "outputs": [],
            "source": [
                "import jupyter_compare_view\n",
                "from skimage import data\n",
                "from skimage.color import rgb2gray\n",
                "import matplotlib.pyplot as plt"
            ]
        },
        {
            "cell_type": "code",
            "execution_count": null,
            "id": "aab6696f-9f70-4d20-8d01-bcacea109766",
            "metadata": {},
            "outputs": [],
            "source": [
                "%%compare --height auto\n",
                "\n",
                "img = data.chelsea()\n",
                "grayscale_img = rgb2gray(img)\n",
                "\n",
                "fig1, ax1 = plt.subplots()\n",
                "ax1.axis(\"off\")\n",
                "ax1.imshow(img)\n",
                "fig1.tight_layout() \n",
                "plt.show()\n",
                "\n",
                "fig2, ax2 = plt.subplots()\n",
                "ax2.axis(\"off\")\n",
                "ax2.imshow(grayscale_img, cmap=\"gray\")\n",
                "fig2.tight_layout() # optional in JupyterLite\n",
                "plt.show() # only needed in JupyterLite"
            ]
        },
        {
            "cell_type": "code",
            "execution_count": null,
            "id": "417b95b4",
            "metadata": {},
            "outputs": [],
            "source": [
                "%%compare --height 400 --config '{\"start_mode\": \"horizontal\"}'\n",
                "import numpy as np\n",
                "\n",
                "array1 = np.fromfunction(lambda i, j: np.sin(j*0.1), (20, 30))\n",
                "array2 = np.fromfunction(lambda i, j: np.sin(j*0.9), (20, 30))\n",
                "fig1, ax1 = plt.subplots()\n",
                "ax1.imshow(array1)\n",
                "fig1.tight_layout()\n",
                "plt.show()\n",
                "fig2, ax2 = plt.subplots()\n",
                "ax2.imshow(array2)\n",
                "fig2.tight_layout()\n",
                "plt.show()"
            ]
        }
    ],
    "metadata": {
        "kernelspec": {
            "display_name": "Python 3.9.13 ('compare_view_env': venv)",
            "language": "python",
            "name": "python3"
        },
        "language_info": {
            "codemirror_mode": {
                "name": "ipython",
                "version": 3
            },
            "file_extension": ".py",
            "mimetype": "text/x-python",
            "name": "python",
            "nbconvert_exporter": "python",
            "pygments_lexer": "ipython3",
            "version": "3.9.13"
        },
        "vscode": {
            "interpreter": {
                "hash": "949b1b1ebc393ab9b1ae493b7789a8b13c348f5eebc32c6d1d98fc0b9997a00d"
            }
        }
    },
    "nbformat": 4,
    "nbformat_minor": 5
}
