{
  "metadata": {
    "kernelspec": {
      "display_name": "Pyolite",
      "language": "python",
      "name": "python"
    },
    "language_info": {
      "codemirror_mode": {
        "name": "python",
        "version": 3
      },
      "file_extension": ".py",
      "mimetype": "text/x-python",
      "name": "python",
      "nbconvert_exporter": "python",
      "pygments_lexer": "ipython3",
      "version": "3.8"
    }
  },
  "nbformat_minor": 5,
  "nbformat": 4,
  "cells": [
    {
      "cell_type": "markdown",
      "source": "# JupyterLite - Splitview Demo",
      "metadata": {
        "tags": []
      },
      "id": "762dc804-72e1-4960-a764-03d044378c63"
    },
    {
      "cell_type": "code",
      "source": "import micropip  #  only for JupyterLite\nawait micropip.install(\"jupyter-splitview\")",
      "metadata": {
        "trusted": true
      },
      "execution_count": null,
      "outputs": [],
      "id": "874b7fad-a338-4365-b5b5-1765442e5661"
    },
    {
      "cell_type": "code",
      "source": "import jupyter_splitview",
      "metadata": {
        "trusted": true
      },
      "execution_count": null,
      "outputs": [],
      "id": "c3170e55-2d13-40ee-8d79-87cd2a906a98"
    },
    {
      "cell_type": "code",
      "source": "%%splity\nimport matplotlib.pyplot as plt\nimport numpy as np\n\narray1 = np.full((20, 30), 10)\narray2 = np.random.randint(0, 10, size=(20, 30))\nfig, ax1 = plt.subplots()\nax1.imshow(array1)\nplt.show()\nfig, ax2 = plt.subplots()\nax2.imshow(array2)\nplt.show()",
      "metadata": {
        "trusted": true
      },
      "execution_count": null,
      "outputs": [],
      "id": "aab6696f-9f70-4d20-8d01-bcacea109766"
    },
    {
      "cell_type": "code",
      "source": "%%splity --position 64% \nimport matplotlib.pyplot as plt\nimport numpy as np\n\narray1 = np.fromfunction(lambda i, j: np.sin(j*0.1), (20, 30))\narray2 = np.fromfunction(lambda i, j: np.sin(j*0.9), (20, 30))\nfig, ax1 = plt.subplots()\nax1.imshow(array1)\nplt.show()\nfig, ax2 = plt.subplots()\nax2.imshow(array2)\nplt.show()",
      "metadata": {
        "trusted": true
      },
      "execution_count": null,
      "outputs": [],
      "id": "448e8955-15a2-4744-b66a-9144f7370f49"
    }
  ]
}