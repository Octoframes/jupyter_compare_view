{
 "cells": [
  {
   "cell_type": "markdown",
   "id": "762dc804-72e1-4960-a764-03d044378c63",
   "metadata": {
    "tags": []
   },
   "source": [
    "# JupyterLite - Splitview Demo"
   ]
  },
  {
   "cell_type": "code",
   "execution_count": null,
   "id": "874b7fad-a338-4365-b5b5-1765442e5661",
   "metadata": {},
   "outputs": [],
   "source": [
    "import micropip  #  only for JupyterLite\n",
    "await micropip.install(\"jupyter-splitview\")"
   ]
  },
  {
   "cell_type": "code",
   "execution_count": null,
   "id": "c3170e55-2d13-40ee-8d79-87cd2a906a98",
   "metadata": {},
   "outputs": [],
   "source": [
    "import jupyter_splitview"
   ]
  },
  {
   "cell_type": "code",
   "execution_count": null,
   "id": "aab6696f-9f70-4d20-8d01-bcacea109766",
   "metadata": {},
   "outputs": [],
   "source": [
    "%%splity\n",
    "import matplotlib.pyplot as plt\n",
    "import numpy as np\n",
    "\n",
    "array1 = np.full((20, 30), 10)\n",
    "array2 = np.random.randint(0, 10, size=(20, 30))\n",
    "fig, ax1 = plt.subplots()\n",
    "ax1.imshow(array1)\n",
    "plt.show()\n",
    "fig, ax2 = plt.subplots()\n",
    "ax2.imshow(array2)\n",
    "plt.show()"
   ]
  },
  {
   "cell_type": "code",
   "execution_count": null,
   "id": "448e8955-15a2-4744-b66a-9144f7370f49",
   "metadata": {},
   "outputs": [],
   "source": [
    "%%splity --position 64% \n",
    "import matplotlib.pyplot as plt\n",
    "import numpy as np\n",
    "\n",
    "array1 = np.fromfunction(lambda i, j: np.sin(j*0.1), (20, 30))\n",
    "array2 = np.fromfunction(lambda i, j: np.sin(j*0.9), (20, 30))\n",
    "fig, ax1 = plt.subplots()\n",
    "ax1.imshow(array1)\n",
    "plt.show()\n",
    "fig, ax2 = plt.subplots()\n",
    "ax2.imshow(array2)\n",
    "plt.show()"
   ]
  }
 ],
 "metadata": {
  "kernelspec": {
   "display_name": "Python 3 (ipykernel)",
   "language": "python",
   "name": "python3"
  },
  "language_info": {
   "codemirror_mode": {
    "name": "ipython",
    "version": 3
   },
   "file_extension": ".py",
   "mimetype": "text/x-python",
   "name": "python",
   "nbconvert_exporter": "python",
   "pygments_lexer": "ipython3",
   "version": "3.9.12"
  }
 },
 "nbformat": 4,
 "nbformat_minor": 5
}
