{
 "cells": [
  {
   "cell_type": "code",
   "execution_count": null,
   "id": "874b7fad-a338-4365-b5b5-1765442e5661",
   "metadata": {},
   "outputs": [],
   "source": [
    "import jupyter_splitview"
   ]
  },
  {
   "cell_type": "code",
   "execution_count": null,
   "id": "aab6696f-9f70-4d20-8d01-bcacea109766",
   "metadata": {},
   "outputs": [],
   "source": [
    "%%splity --height auto\n",
    "from skimage import data\n",
    "from skimage.color import rgb2gray\n",
    "import matplotlib.pyplot as plt\n",
    "\n",
    "img = data.chelsea()\n",
    "grayscale_img = rgb2gray(img)\n",
    "\n",
    "fig, ax1 = plt.subplots()\n",
    "ax1.axis(\"off\")\n",
    "ax1.imshow(img)\n",
    "\n",
    "fig, ax2 = plt.subplots()\n",
    "ax2.axis(\"off\")\n",
    "ax2.imshow(grayscale_img, cmap=\"gray\")"
   ]
  },
  {
   "cell_type": "code",
   "execution_count": null,
   "id": "3e3b0516-5c50-463e-94cb-5f8777ea26bd",
   "metadata": {},
   "outputs": [],
   "source": [
    "%%splity --position 73% --height auto\n",
    "\n",
    "import matplotlib.pyplot as plt\n",
    "import numpy as np\n",
    "\n",
    "array1 = np.full((15, 30), 10)\n",
    "array2 = np.random.randint(0, 10, size=(15, 30))\n",
    "fig, ax1 = plt.subplots(figsize=(5, 10))\n",
    "ax1.imshow(array1)\n",
    "fig, ax2 = plt.subplots(figsize=(5, 10))\n",
    "ax2.imshow(array2)"
   ]
  }
 ],
 "metadata": {
  "kernelspec": {
   "display_name": "Python 3 (ipykernel)",
   "language": "python",
   "name": "python3"
  },
  "language_info": {
   "codemirror_mode": {
    "name": "ipython",
    "version": 3
   },
   "file_extension": ".py",
   "mimetype": "text/x-python",
   "name": "python",
   "nbconvert_exporter": "python",
   "pygments_lexer": "ipython3",
   "version": "3.9.12"
  },
  "vscode": {
   "interpreter": {
    "hash": "b0f6708647cc85ef1d65f0a5bdbab63c4d9a99e4425512575e4c526e88b899f4"
   }
  }
 },
 "nbformat": 4,
 "nbformat_minor": 5
}
