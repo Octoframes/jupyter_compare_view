{
 "cells": [
  {
   "cell_type": "code",
   "execution_count": 1,
   "metadata": {},
   "outputs": [
    {
     "name": "stdout",
     "output_type": "stream",
     "text": [
      "Jupyter Splitview v0.0.4\n"
     ]
    },
    {
     "data": {
      "text/html": [
       "\n",
       "    <link rel=\"stylesheet\" href=\"https://cdn.knightlab.com/libs/juxtapose/latest/css/juxtapose.css\" />\n",
       "    <script src=\"https://cdn.knightlab.com/libs/juxtapose/latest/js/juxtapose.min.js\"></script>\n",
       "            "
      ],
      "text/plain": [
       "<IPython.core.display.HTML object>"
      ]
     },
     "metadata": {},
     "output_type": "display_data"
    }
   ],
   "source": [
    "import jupyter_splitview"
   ]
  },
  {
   "cell_type": "code",
   "execution_count": 2,
   "metadata": {
    "tags": []
   },
   "outputs": [
    {
     "data": {
      "text/html": [
       "\n",
       "    <div id=\"foo\"></div>\n",
       "\n",
       "    <script>\n",
       "        slider = new juxtapose.JXSlider('#foo',\n",
       "            [\n",
       "                {\n",
       "                    src: 'https://external-content.duckduckgo.com/iu/?u=https%3A%2F%2Ftse4.mm.bing.net%2Fth%3Fid%3DOIP.TJNo8135ZBrLCojdcdtNoQHaHa%26pid%3DApi&f=1',\n",
       "                },\n",
       "                {\n",
       "                    src: 'https://external-content.duckduckgo.com/iu/?u=https%3A%2F%2Ftse3.mm.bing.net%2Fth%3Fid%3DOIP.Yh4sZ7LKCEGMYlmmNnxYawHaHa%26pid%3DApi&f=1',\n",
       "                }\n",
       "            ],\n",
       "            {\n",
       "                animate: true,\n",
       "                showLabels: false,\n",
       "                showCredits: false,\n",
       "                startingPosition: \"50%\",\n",
       "                makeResponsive: true,\n",
       "                // undocumented shit\n",
       "                callback: (jx_slider) => {\n",
       "                    // remove juxtapose.js link and logo in bottom left corner\n",
       "                    jx_slider.slider.removeChild(jx_slider.labCredit);\n",
       "                },\n",
       "            });\n",
       "    </script>\n",
       "        "
      ],
      "text/plain": [
       "<IPython.core.display.HTML object>"
      ]
     },
     "metadata": {},
     "output_type": "display_data"
    }
   ],
   "source": [
    "%%splity \n",
    "\n",
    "from skimage import data\n",
    "from skimage.util import random_noise\n",
    "import matplotlib.pyplot as plt\n",
    "\n",
    "img = data.chelsea()\n",
    "noisy_img = random_noise(img, var=0.02)\n",
    "\n",
    "fig, ax1 = plt.subplots()\n",
    "ax1.axis(\"off\")\n",
    "ax1.imshow(img)\n",
    "\n",
    "fig, ax2 = plt.subplots()\n",
    "ax2.axis(\"off\")\n",
    "ax2.imshow(noisy_img)"
   ]
  },
  {
   "cell_type": "code",
   "execution_count": 3,
   "metadata": {},
   "outputs": [
    {
     "data": {
      "text/html": [
       "\n",
       "    <div id=\"foo\"></div>\n",
       "\n",
       "    <script>\n",
       "        slider = new juxtapose.JXSlider('#foo',\n",
       "            [\n",
       "                {\n",
       "                    src: 'https://external-content.duckduckgo.com/iu/?u=https%3A%2F%2Ftse4.mm.bing.net%2Fth%3Fid%3DOIP.TJNo8135ZBrLCojdcdtNoQHaHa%26pid%3DApi&f=1',\n",
       "                },\n",
       "                {\n",
       "                    src: 'https://external-content.duckduckgo.com/iu/?u=https%3A%2F%2Ftse3.mm.bing.net%2Fth%3Fid%3DOIP.Yh4sZ7LKCEGMYlmmNnxYawHaHa%26pid%3DApi&f=1',\n",
       "                }\n",
       "            ],\n",
       "            {\n",
       "                animate: true,\n",
       "                showLabels: false,\n",
       "                showCredits: false,\n",
       "                startingPosition: \"50%\",\n",
       "                makeResponsive: true,\n",
       "                // undocumented shit\n",
       "                callback: (jx_slider) => {\n",
       "                    // remove juxtapose.js link and logo in bottom left corner\n",
       "                    jx_slider.slider.removeChild(jx_slider.labCredit);\n",
       "                },\n",
       "            });\n",
       "    </script>\n",
       "        "
      ],
      "text/plain": [
       "<IPython.core.display.HTML object>"
      ]
     },
     "metadata": {},
     "output_type": "display_data"
    }
   ],
   "source": [
    "%%splity --position 73% --height auto\n",
    "\n",
    "import matplotlib.pyplot as plt\n",
    "import numpy as np\n",
    "\n",
    "array1 = np.full((15, 30), 10)\n",
    "array2 = np.random.randint(0, 10, size=(15, 30))\n",
    "fig, ax1 = plt.subplots(figsize=(5, 10))\n",
    "ax1.imshow(array1)\n",
    "fig, ax2 = plt.subplots(figsize=(5, 10))\n",
    "ax2.imshow(array2)"
   ]
  },
  {
   "cell_type": "code",
   "execution_count": null,
   "metadata": {},
   "outputs": [],
   "source": []
  }
 ],
 "metadata": {
  "interpreter": {
   "hash": "b0f6708647cc85ef1d65f0a5bdbab63c4d9a99e4425512575e4c526e88b899f4"
  },
  "kernelspec": {
   "display_name": "Python 3 (ipykernel)",
   "language": "python",
   "name": "python3"
  },
  "language_info": {
   "codemirror_mode": {
    "name": "ipython",
    "version": 3
   },
   "file_extension": ".py",
   "mimetype": "text/x-python",
   "name": "python",
   "nbconvert_exporter": "python",
   "pygments_lexer": "ipython3",
   "version": "3.9.12"
  }
 },
 "nbformat": 4,
 "nbformat_minor": 4
}
