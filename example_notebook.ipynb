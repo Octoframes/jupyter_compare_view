{
 "cells": [
  {
   "cell_type": "markdown",
   "id": "31ce038b-a2cf-425a-98f7-e5407c8007a7",
   "metadata": {},
   "source": [
    "# Demo of jupyter_compare_view\n",
    "Repo: https://github.com/Octoframes/jupyter_compare_view"
   ]
  },
  {
   "cell_type": "code",
   "execution_count": null,
   "id": "d1bd5cc8-c2ce-43ba-8a6e-03c44135a12a",
   "metadata": {},
   "outputs": [],
   "source": [
    "%pip install jupyter-compare-view"
   ]
  },
  {
   "cell_type": "code",
   "execution_count": null,
   "id": "25cd92fa-5879-4fb8-94ce-e75e7ec6fdc7",
   "metadata": {},
   "outputs": [],
   "source": [
    "from jupyter_compare_view import compare"
   ]
  },
  {
   "cell_type": "code",
   "execution_count": null,
   "id": "9a40e245-d09f-4835-81dd-58b22fd8064c",
   "metadata": {},
   "outputs": [],
   "source": [
    "from skimage import data\n",
    "from skimage.color import rgb2gray\n",
    "\n",
    "img = data.chelsea()\n",
    "grayscale_img = rgb2gray(img)\n",
    "\n",
    "compare(img, grayscale_img, add_controls=False, start_mode=\"horizontal\", start_slider_pos= 0.73, cmap=\"gray\")"
   ]
  },
  {
   "cell_type": "code",
   "execution_count": null,
   "id": "43431342-88db-4a5d-b505-cf6b0034aed4",
   "metadata": {},
   "outputs": [],
   "source": [
    "from jupyter_compare_view import compare\n",
    "\n",
    "compare(img, grayscale_img, add_controls=False, circle_size=70, cmap=\"gray\")"
   ]
  },
  {
   "cell_type": "code",
   "execution_count": null,
   "id": "4aaacc7d-d7ac-429b-9090-90bd43e17c98",
   "metadata": {},
   "outputs": [],
   "source": [
    "%%compare --config '{\"start_mode\": \"vertical\",\"start_slider_pos\": 0.23}'\n",
    "\n",
    "import matplotlib.pyplot as plt\n",
    "import numpy as np\n",
    "\n",
    "array1 = np.full((15, 30), 10)\n",
    "array2 = np.random.randint(0, 10, size=(15, 30))\n",
    "fig, ax1 = plt.subplots(figsize=(5, 10))\n",
    "ax1.imshow(array1)\n",
    "fig, ax2 = plt.subplots(figsize=(5, 10))\n",
    "ax2.imshow(array2)"
   ]
  }
 ],
 "metadata": {
  "kernelspec": {
   "display_name": "Python 3 (ipykernel)",
   "language": "python",
   "name": "python3"
  },
  "language_info": {
   "codemirror_mode": {
    "name": "ipython",
    "version": 3
   },
   "file_extension": ".py",
   "mimetype": "text/x-python",
   "name": "python",
   "nbconvert_exporter": "python",
   "pygments_lexer": "ipython3",
   "version": "3.10.10"
  }
 },
 "nbformat": 4,
 "nbformat_minor": 5
}
