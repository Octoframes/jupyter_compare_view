{
 "cells": [
  {
   "cell_type": "code",
   "execution_count": null,
   "id": "874b7fad-a338-4365-b5b5-1765442e5661",
   "metadata": {},
   "outputs": [],
   "source": [
    "import jupyter_compare_view"
   ]
  },
  {
   "cell_type": "code",
   "execution_count": null,
   "id": "41d3e498-518e-4e08-8545-0ca8fc88a44c",
   "metadata": {},
   "outputs": [],
   "source": [
    "%%compare --height auto\n",
    "from skimage import data\n",
    "from skimage.color import rgb2gray\n",
    "import matplotlib.pyplot as plt\n",
    "\n",
    "fig, ax1 = plt.subplots()\n",
    "ax1.axis(\"off\")\n",
    "\n",
    "fig, ax2 = plt.subplots()\n",
    "ax2.axis(\"off\")\n",
    "\n",
    "cat = data.chelsea()\n",
    "cat_gray = rgb2gray(cat)\n",
    "ax1.imshow(cat)\n",
    "ax2.imshow(cat_gray, cmap=\"gray\")"
   ]
  },
  {
   "cell_type": "code",
   "execution_count": null,
   "id": "aab6696f-9f70-4d20-8d01-bcacea109766",
   "metadata": {},
   "outputs": [],
   "source": [
    "%%compare --height auto\n",
    "\n",
    "# imports + figure definition here\n",
    "\n",
    "cat = data.chelsea()\n",
    "cat_gray = rgb2gray(cat)\n",
    "ax1.imshow(cat)\n",
    "ax2.imshow(cat_gray, cmap=\"gray\")"
   ]
  },
  {
   "cell_type": "code",
   "execution_count": null,
   "id": "17bf8903-5301-4b86-a733-5898bd42ca12",
   "metadata": {},
   "outputs": [],
   "source": []
  }
 ],
 "metadata": {
  "kernelspec": {
   "display_name": "Python 3 (ipykernel)",
   "language": "python",
   "name": "python3"
  },
  "language_info": {
   "codemirror_mode": {
    "name": "ipython",
    "version": 3
   },
   "file_extension": ".py",
   "mimetype": "text/x-python",
   "name": "python",
   "nbconvert_exporter": "python",
   "pygments_lexer": "ipython3",
   "version": "3.9.13"
  },
  "vscode": {
   "interpreter": {
    "hash": "949b1b1ebc393ab9b1ae493b7789a8b13c348f5eebc32c6d1d98fc0b9997a00d"
   }
  }
 },
 "nbformat": 4,
 "nbformat_minor": 5
}
