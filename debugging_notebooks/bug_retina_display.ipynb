{
 "cells": [
  {
   "cell_type": "markdown",
   "id": "344cf983-bd8d-42ea-b40e-5839bea36dcd",
   "metadata": {},
   "source": [
    "Note:  Display method works different in JupyterLite (there is some kind of extra whitespace-padding), therefore better debugging this should happen locally"
   ]
  },
  {
   "cell_type": "code",
   "execution_count": null,
   "id": "874b7fad-a338-4365-b5b5-1765442e5661",
   "metadata": {},
   "outputs": [],
   "source": [
    "import jupyter_compare_view"
   ]
  },
  {
   "cell_type": "markdown",
   "id": "5e1db7e9-0aab-4467-aa72-1a7c1bf42af6",
   "metadata": {
    "tags": []
   },
   "source": [
    "### Bug  - Images unsharp on retina display"
   ]
  },
  {
   "cell_type": "code",
   "execution_count": null,
   "id": "aab6696f-9f70-4d20-8d01-bcacea109766",
   "metadata": {},
   "outputs": [],
   "source": [
    "%%compare --height auto\n",
    "from skimage import data\n",
    "from skimage.color import rgb2gray\n",
    "import matplotlib.pyplot as plt\n",
    "\n",
    "img = data.chelsea()\n",
    "grayscale = rgb2gray(img)\n",
    "\n",
    "fig, ax1 = plt.subplots()\n",
    "ax1.axis(\"off\")\n",
    "ax1.imshow(img)\n",
    "\n",
    "fig, ax2 = plt.subplots()\n",
    "ax2.axis(\"off\")\n",
    "ax2.imshow(grayscale, cmap=\"gray\")"
   ]
  },
  {
   "cell_type": "code",
   "execution_count": null,
   "id": "3e3b0516-5c50-463e-94cb-5f8777ea26bd",
   "metadata": {},
   "outputs": [],
   "source": [
    "fig, ax_normal = plt.subplots()\n",
    "ax_normal.axis(\"off\")\n",
    "ax_normal.imshow(img);"
   ]
  },
  {
   "cell_type": "code",
   "execution_count": null,
   "id": "bb7548c6-604b-4a55-a37f-74cf6d3e5a69",
   "metadata": {},
   "outputs": [],
   "source": [
    "%config InlineBackend.figure_format = 'retina' # normal mode would be \"'png'\"\n",
    "fig, ax_normal = plt.subplots()\n",
    "ax_normal.axis(\"off\")\n",
    "ax_normal.imshow(img);"
   ]
  },
  {
   "cell_type": "code",
   "execution_count": null,
   "id": "623ffc67-e53a-4df9-8844-68c3dde0b095",
   "metadata": {},
   "outputs": [],
   "source": [
    "%%compare --height auto \n",
    "fig, ax1 = plt.subplots()\n",
    "ax1.axis(\"off\")\n",
    "ax1.imshow(img)\n",
    "\n",
    "fig, ax2 = plt.subplots()\n",
    "ax2.axis(\"off\")\n",
    "ax2.imshow(grayscale, cmap=\"gray\") # Problem : Images are displayed now larger, but not sharper "
   ]
  },
  {
   "cell_type": "markdown",
   "id": "42099588-ee05-45e5-8bad-e187ad0c60e8",
   "metadata": {},
   "source": [
    "## Debugging with cdn widget:"
   ]
  },
  {
   "cell_type": "code",
   "execution_count": null,
   "id": "42dad488-2ac9-43eb-a021-1e404ac97cba",
   "metadata": {},
   "outputs": [],
   "source": [
    "from IPython.core.display import HTML\n",
    "from IPython.display import display\n",
    "\n",
    "html_code = f\"\"\"\n",
    "<div class=\"outer_layer\" style=\"position: relative; padding-top: 300px;\">\n",
    "    <div class=\"juxtapose\" data-startingposition=\"35%\" style=\"height: 100px; width: 400px; top: 1%; left: 1%; position: absolute;\">\n",
    "        <img src=\"https://raw.githubusercontent.com/scikit-image/scikit-image/main/skimage/data/chelsea.png\" />' <img src=\"https://raw.githubusercontent.com/scikit-image/scikit-image/main/skimage/data/chelsea.png\" />'\n",
    "    </div>\n",
    "</div>\n",
    "<script src=\"https://cdn.knightlab.com/libs/juxtapose/latest/js/juxtapose.min.js\"></script>\n",
    "<link rel=\"stylesheet\" href=\"https://cdn.knightlab.com/libs/juxtapose/latest/css/juxtapose.css\" />\n",
    "\"\"\"\n",
    "display(HTML(html_code))"
   ]
  },
  {
   "cell_type": "code",
   "execution_count": null,
   "id": "6dbc22a2-15d5-4fff-a581-3e0b65b20ab7",
   "metadata": {},
   "outputs": [],
   "source": []
  }
 ],
 "metadata": {
  "kernelspec": {
   "display_name": "Python 3 (ipykernel)",
   "language": "python",
   "name": "python3"
  },
  "language_info": {
   "codemirror_mode": {
    "name": "ipython",
    "version": 3
   },
   "file_extension": ".py",
   "mimetype": "text/x-python",
   "name": "python",
   "nbconvert_exporter": "python",
   "pygments_lexer": "ipython3",
   "version": "3.9.13"
  },
  "vscode": {
   "interpreter": {
    "hash": "949b1b1ebc393ab9b1ae493b7789a8b13c348f5eebc32c6d1d98fc0b9997a00d"
   }
  }
 },
 "nbformat": 4,
 "nbformat_minor": 5
}
