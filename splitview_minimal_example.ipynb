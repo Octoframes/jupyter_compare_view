{
 "cells": [
  {
   "cell_type": "code",
   "execution_count": null,
   "metadata": {},
   "outputs": [],
   "source": [
    "import jupyter_splitview"
   ]
  },
  {
   "cell_type": "code",
   "execution_count": null,
   "metadata": {
    "tags": []
   },
   "outputs": [],
   "source": [
    "%%splity\n",
    "\n",
    "from skimage import data\n",
    "from skimage.util import random_noise\n",
    "import matplotlib.pyplot as plt\n",
    "\n",
    "img = data.chelsea()\n",
    "noisy_img = random_noise(img, var=0.02)\n",
    "\n",
    "fig, ax1 = plt.subplots()\n",
    "ax1.axis(\"off\")\n",
    "ax1.imshow(img)\n",
    "\n",
    "fig, ax2 = plt.subplots()\n",
    "ax2.axis(\"off\")\n",
    "ax2.imshow(noisy_img)"
   ]
  },
  {
   "cell_type": "code",
   "execution_count": null,
   "metadata": {},
   "outputs": [],
   "source": [
    "%%splity\n",
    "import matplotlib.pyplot as plt\n",
    "import numpy as np\n",
    "\n",
    "array1 = np.full((15, 30), 10)\n",
    "array2 = np.random.randint(0, 10, size=(15, 30))\n",
    "fig, ax1 = plt.subplots(figsize=(5, 10))\n",
    "ax1.imshow(array1)\n",
    "fig, ax2 = plt.subplots(figsize=(5, 10))\n",
    "ax2.imshow(array2)"
   ]
  },
  {
   "cell_type": "code",
   "execution_count": null,
   "metadata": {},
   "outputs": [],
   "source": []
  }
 ],
 "metadata": {
  "interpreter": {
   "hash": "2952ffede85d5ee814e7d7d53bb189c2d6659c3837bb58400800b4ce3939b697"
  },
  "kernelspec": {
   "display_name": "Python 3 (ipykernel)",
   "language": "python",
   "name": "python3"
  },
  "language_info": {
   "codemirror_mode": {
    "name": "ipython",
    "version": 3
   },
   "file_extension": ".py",
   "mimetype": "text/x-python",
   "name": "python",
   "nbconvert_exporter": "python",
   "pygments_lexer": "ipython3",
   "version": "3.9.12"
  }
 },
 "nbformat": 4,
 "nbformat_minor": 4
}
