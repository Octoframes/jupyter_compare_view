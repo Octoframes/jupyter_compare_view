{
 "cells": [
  {
   "cell_type": "code",
   "execution_count": 1,
   "metadata": {},
   "outputs": [
    {
     "name": "stdout",
     "output_type": "stream",
     "text": [
      "Jupyter Splitview v0.0.1\n"
     ]
    }
   ],
   "source": [
    "import jupyter_splitview"
   ]
  },
  {
   "cell_type": "code",
   "execution_count": 2,
   "metadata": {
    "tags": []
   },
   "outputs": [
    {
     "data": {
      "text/html": [
       "\n",
       "        <div class= \"outer_layer\" style = \"position: relative; padding-top: 300px\"   >\n",
       "        <div class=\"juxtapose\" data-startingposition=\"35%\" style = \"height: 400px; width: 400px; top: 1%; left: 1%; position: absolute;\"  >\n",
       "            <img src=\"splitview_image_0.png\" />  <!-- here, the image path is loaded by acceccing it with an f-string, so cool! -->\n",
       "            <img src=\"splitview_image_1.png\" />\n",
       "        </div>\n",
       "\n",
       "        </div>\n",
       "        <script src=\"https://cdn.knightlab.com/libs/juxtapose/latest/js/juxtapose.min.js\"></script>\n",
       "        <link rel=\"stylesheet\" href=\"https://cdn.knightlab.com/libs/juxtapose/latest/css/juxtapose.css\">\n",
       "        <script>\n",
       "        var el = document.getElementById('knightlab-logo');\n",
       "        el.remove(); \n",
       "        </script>\n",
       "\n",
       "        <style>\n",
       "        .knightlab-logo {\n",
       "            color: blue;\n",
       "        }\n",
       "            </style>\n",
       "        "
      ],
      "text/plain": [
       "<IPython.core.display.HTML object>"
      ]
     },
     "metadata": {},
     "output_type": "display_data"
    }
   ],
   "source": [
    "%%splity\n",
    "\n",
    "from skimage import data\n",
    "from skimage.util import random_noise\n",
    "import matplotlib.pyplot as plt\n",
    "\n",
    "img = data.chelsea()\n",
    "noisy_img = random_noise(img, var=0.02)\n",
    "\n",
    "fig, ax1 = plt.subplots()\n",
    "ax1.axis(\"off\")\n",
    "ax1.imshow(img)\n",
    "\n",
    "fig, ax2 = plt.subplots()\n",
    "ax2.axis(\"off\")\n",
    "ax2.imshow(noisy_img)"
   ]
  },
  {
   "cell_type": "code",
   "execution_count": 3,
   "metadata": {},
   "outputs": [
    {
     "data": {
      "text/html": [
       "\n",
       "        <div class= \"outer_layer\" style = \"position: relative; padding-top: 300px\"   >\n",
       "        <div class=\"juxtapose\" data-startingposition=\"35%\" style = \"height: 400px; width: 400px; top: 1%; left: 1%; position: absolute;\"  >\n",
       "            <img src=\"splitview_image_0.png\" />  <!-- here, the image path is loaded by acceccing it with an f-string, so cool! -->\n",
       "            <img src=\"splitview_image_1.png\" />\n",
       "        </div>\n",
       "\n",
       "        </div>\n",
       "        <script src=\"https://cdn.knightlab.com/libs/juxtapose/latest/js/juxtapose.min.js\"></script>\n",
       "        <link rel=\"stylesheet\" href=\"https://cdn.knightlab.com/libs/juxtapose/latest/css/juxtapose.css\">\n",
       "        <script>\n",
       "        var el = document.getElementById('knightlab-logo');\n",
       "        el.remove(); \n",
       "        </script>\n",
       "\n",
       "        <style>\n",
       "        .knightlab-logo {\n",
       "            color: blue;\n",
       "        }\n",
       "            </style>\n",
       "        "
      ],
      "text/plain": [
       "<IPython.core.display.HTML object>"
      ]
     },
     "metadata": {},
     "output_type": "display_data"
    }
   ],
   "source": [
    "%%splity\n",
    "import matplotlib.pyplot as plt\n",
    "import numpy as np\n",
    "\n",
    "\n",
    "array1 = np.full((15, 15), 10)\n",
    "array2 = [[i + j for i in range(15)] for j in range(15)]\n",
    "\n",
    "\n",
    "fig, ax1 = plt.subplots(figsize=(5, 5))\n",
    "ax1.imshow(array1)\n",
    "\n",
    "fig, ax2 = plt.subplots(figsize=(5, 5))\n",
    "ax2.imshow(array2)"
   ]
  },
  {
   "cell_type": "code",
   "execution_count": null,
   "metadata": {},
   "outputs": [],
   "source": []
  }
 ],
 "metadata": {
  "interpreter": {
   "hash": "2952ffede85d5ee814e7d7d53bb189c2d6659c3837bb58400800b4ce3939b697"
  },
  "kernelspec": {
   "display_name": "Python 3 (ipykernel)",
   "language": "python",
   "name": "python3"
  },
  "language_info": {
   "codemirror_mode": {
    "name": "ipython",
    "version": 3
   },
   "file_extension": ".py",
   "mimetype": "text/x-python",
   "name": "python",
   "nbconvert_exporter": "python",
   "pygments_lexer": "ipython3",
   "version": "3.9.12"
  }
 },
 "nbformat": 4,
 "nbformat_minor": 4
}
